{
 "cells": [
  {
   "cell_type": "code",
   "execution_count": 124,
   "id": "cf4d8d3c",
   "metadata": {},
   "outputs": [],
   "source": [
    "data = \"\"\n",
    "with open(\"inputd9.txt\", \"r\") as file:\n",
    "    for line in file:\n",
    "        data=line.strip()"
   ]
  },
  {
   "cell_type": "code",
   "execution_count": 125,
   "id": "66afda74",
   "metadata": {},
   "outputs": [],
   "source": [
    "def generateDiskMapFromInput(data):\n",
    "    retValue = []\n",
    "    idCount = 0\n",
    "    for i in range(len(data)):\n",
    "        characterToUse = \"\"\n",
    "        if i%2 == 0:\n",
    "            characterToUse = str(idCount)\n",
    "            idCount += 1\n",
    "        else:\n",
    "            characterToUse = \".\"\n",
    "        numTimes = int(data[i])\n",
    "        for j in range(numTimes):\n",
    "            retValue.append(characterToUse)\n",
    "    return retValue\n",
    "\n",
    "def calculateCheckSum(board):\n",
    "    retValue = 0\n",
    "    leftPointer = 0\n",
    "    rightPointer = len(board)-1\n",
    "    while(leftPointer <= rightPointer):\n",
    "        if(board[leftPointer] != \".\"):\n",
    "            retValue += int(board[leftPointer]) * leftPointer\n",
    "        else:\n",
    "            while(board[rightPointer] == \".\" and leftPointer <= rightPointer):\n",
    "                rightPointer-=1\n",
    "            if(leftPointer > rightPointer):\n",
    "                break\n",
    "            retValue += int(board[rightPointer]) * leftPointer\n",
    "            rightPointer -=1\n",
    "        leftPointer += 1\n",
    "    return retValue\n",
    "\n",
    "def getSolution(rawData):\n",
    "    data = generateDiskMapFromInput(rawData)\n",
    "    return calculateCheckSum(data)"
   ]
  },
  {
   "cell_type": "code",
   "execution_count": 135,
   "id": "3155d30c",
   "metadata": {
    "scrolled": true
   },
   "outputs": [
    {
     "name": "stdout",
     "output_type": "stream",
     "text": [
      "1928\n"
     ]
    }
   ],
   "source": [
    "print(getSolution(data))"
   ]
  },
  {
   "cell_type": "code",
   "execution_count": 201,
   "id": "f0705203",
   "metadata": {},
   "outputs": [],
   "source": [
    "def printBoard(board):\n",
    "    for ch in board:\n",
    "        print(ch,end=\"\")\n",
    "    print()\n",
    "\n",
    "def generateDictOfLength(rawData):\n",
    "    retValue = {}\n",
    "    idCount = 0\n",
    "    for i in range(len(rawData)):\n",
    "        if i%2==0:\n",
    "            retValue[idCount] = int(rawData[i])\n",
    "            idCount += 1\n",
    "    return retValue\n",
    "\n",
    "def findGapLength(board,index):\n",
    "    length = 1\n",
    "    while(index + length < len(board) and board[index+ length] == \".\"):\n",
    "        length += 1\n",
    "    return length\n",
    "\n",
    "def findAppropriateFit(length, dictData):\n",
    "    sortedKeys = sorted(dictData.keys(), reverse=True)\n",
    "    for key in sortedKeys:\n",
    "        if(dictData[key] <= length):\n",
    "            return key\n",
    "    return -1\n",
    "\n",
    "def clearOutBoard(board, key, index):\n",
    "    for i in range(index,len(board)):\n",
    "        if(board[i] == str(key)):\n",
    "            board[i] = '.'\n",
    "    \n",
    "def iterator(rawData):\n",
    "    index = 0\n",
    "    dictData = generateDictOfLength(rawData)\n",
    "    board = generateDiskMapFromInput(rawData)\n",
    "    checkSum = 0\n",
    "    while(index < len(board)):\n",
    "        if(board[index] != \".\"):\n",
    "#             print(index)\n",
    "#             print(board[index])\n",
    "#             print(int(board[index])*index)\n",
    "#             print()\n",
    "            checkSum += int(board[index]) * index\n",
    "        else:\n",
    "            lengthOfGap = findGapLength(board, index)\n",
    "            key = findAppropriateFit(lengthOfGap, dictData)\n",
    "            print(board)\n",
    "            print(dictData)\n",
    "            print()\n",
    "            if(key != -1):\n",
    "                counter = 0\n",
    "                while(counter < dictData[key]):\n",
    "                    board[index+counter] = str(key)\n",
    "#                     print(index+counter)\n",
    "#                     print(key)\n",
    "#                     print(key*(index+counter))\n",
    "#                     print()\n",
    "                    checkSum += key*(index+counter)\n",
    "                    counter += 1\n",
    "                clearOutBoard(board, key, index+counter)\n",
    "                index += dictData[key]-1\n",
    "                dictData.pop(key)\n",
    "        index += 1\n",
    "    printBoard(board)\n",
    "    return checkSum"
   ]
  },
  {
   "cell_type": "code",
   "execution_count": 202,
   "id": "d0cfb996",
   "metadata": {},
   "outputs": [
    {
     "name": "stdout",
     "output_type": "stream",
     "text": [
      "['0', '0', '.', '.', '.', '1', '1', '1', '.', '.', '.', '2', '.', '.', '.', '3', '3', '3', '.', '4', '4', '.', '5', '5', '5', '5', '.', '6', '6', '6', '6', '.', '7', '7', '7', '.', '8', '8', '8', '8', '9', '9']\n",
      "{0: 2, 1: 3, 2: 1, 3: 3, 4: 2, 5: 4, 6: 4, 7: 3, 8: 4, 9: 2}\n",
      "\n",
      "['0', '0', '9', '9', '.', '1', '1', '1', '.', '.', '.', '2', '.', '.', '.', '3', '3', '3', '.', '4', '4', '.', '5', '5', '5', '5', '.', '6', '6', '6', '6', '.', '7', '7', '7', '.', '8', '8', '8', '8', '.', '.']\n",
      "{0: 2, 1: 3, 2: 1, 3: 3, 4: 2, 5: 4, 6: 4, 7: 3, 8: 4}\n",
      "\n",
      "['0', '0', '9', '9', '2', '1', '1', '1', '.', '.', '.', '.', '.', '.', '.', '3', '3', '3', '.', '4', '4', '.', '5', '5', '5', '5', '.', '6', '6', '6', '6', '.', '7', '7', '7', '.', '8', '8', '8', '8', '.', '.']\n",
      "{0: 2, 1: 3, 3: 3, 4: 2, 5: 4, 6: 4, 7: 3, 8: 4}\n",
      "\n",
      "['0', '0', '9', '9', '2', '1', '1', '1', '8', '8', '8', '8', '.', '.', '.', '3', '3', '3', '.', '4', '4', '.', '5', '5', '5', '5', '.', '6', '6', '6', '6', '.', '7', '7', '7', '.', '.', '.', '.', '.', '.', '.']\n",
      "{0: 2, 1: 3, 3: 3, 4: 2, 5: 4, 6: 4, 7: 3}\n",
      "\n",
      "['0', '0', '9', '9', '2', '1', '1', '1', '8', '8', '8', '8', '7', '7', '7', '3', '3', '3', '.', '4', '4', '.', '5', '5', '5', '5', '.', '6', '6', '6', '6', '.', '.', '.', '.', '.', '.', '.', '.', '.', '.', '.']\n",
      "{0: 2, 1: 3, 3: 3, 4: 2, 5: 4, 6: 4}\n",
      "\n",
      "['0', '0', '9', '9', '2', '1', '1', '1', '8', '8', '8', '8', '7', '7', '7', '3', '3', '3', '.', '4', '4', '.', '5', '5', '5', '5', '.', '6', '6', '6', '6', '.', '.', '.', '.', '.', '.', '.', '.', '.', '.', '.']\n",
      "{0: 2, 1: 3, 3: 3, 4: 2, 5: 4, 6: 4}\n",
      "\n",
      "['0', '0', '9', '9', '2', '1', '1', '1', '8', '8', '8', '8', '7', '7', '7', '3', '3', '3', '.', '4', '4', '.', '5', '5', '5', '5', '.', '6', '6', '6', '6', '.', '.', '.', '.', '.', '.', '.', '.', '.', '.', '.']\n",
      "{0: 2, 1: 3, 3: 3, 4: 2, 5: 4, 6: 4}\n",
      "\n",
      "['0', '0', '9', '9', '2', '1', '1', '1', '8', '8', '8', '8', '7', '7', '7', '3', '3', '3', '.', '4', '4', '.', '5', '5', '5', '5', '.', '6', '6', '6', '6', '.', '.', '.', '.', '.', '.', '.', '.', '.', '.', '.']\n",
      "{0: 2, 1: 3, 3: 3, 4: 2, 5: 4, 6: 4}\n",
      "\n",
      "['0', '0', '9', '9', '2', '1', '1', '1', '8', '8', '8', '8', '7', '7', '7', '3', '3', '3', '.', '4', '4', '.', '5', '5', '5', '5', '.', '6', '6', '6', '6', '6', '6', '6', '6', '.', '.', '.', '.', '.', '.', '.']\n",
      "{0: 2, 1: 3, 3: 3, 4: 2, 5: 4}\n",
      "\n",
      "['0', '0', '9', '9', '2', '1', '1', '1', '8', '8', '8', '8', '7', '7', '7', '3', '3', '3', '.', '4', '4', '.', '5', '5', '5', '5', '.', '6', '6', '6', '6', '6', '6', '6', '6', '5', '5', '5', '5', '.', '.', '.']\n",
      "{0: 2, 1: 3, 3: 3, 4: 2}\n",
      "\n",
      "['0', '0', '9', '9', '2', '1', '1', '1', '8', '8', '8', '8', '7', '7', '7', '3', '3', '3', '.', '4', '4', '.', '5', '5', '5', '5', '.', '6', '6', '6', '6', '6', '6', '6', '6', '5', '5', '5', '5', '4', '4', '.']\n",
      "{0: 2, 1: 3, 3: 3}\n",
      "\n",
      "009921118888777333.44.5555.66666666555544.\n",
      "3928\n"
     ]
    }
   ],
   "source": [
    "print(iterator(data))"
   ]
  },
  {
   "cell_type": "code",
   "execution_count": null,
   "id": "51a1098b",
   "metadata": {},
   "outputs": [],
   "source": []
  },
  {
   "cell_type": "code",
   "execution_count": null,
   "id": "a6b0f4fd",
   "metadata": {},
   "outputs": [],
   "source": []
  }
 ],
 "metadata": {
  "kernelspec": {
   "display_name": "Python 3 (ipykernel)",
   "language": "python",
   "name": "python3"
  },
  "language_info": {
   "codemirror_mode": {
    "name": "ipython",
    "version": 3
   },
   "file_extension": ".py",
   "mimetype": "text/x-python",
   "name": "python",
   "nbconvert_exporter": "python",
   "pygments_lexer": "ipython3",
   "version": "3.9.7"
  }
 },
 "nbformat": 4,
 "nbformat_minor": 5
}
