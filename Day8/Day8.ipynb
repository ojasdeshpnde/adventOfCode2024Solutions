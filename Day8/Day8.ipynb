{
 "cells": [
  {
   "cell_type": "code",
   "execution_count": 25,
   "id": "1ce6ebcc",
   "metadata": {},
   "outputs": [],
   "source": [
    "data = []\n",
    "with open(\"inputd8.txt\", \"r\") as file:\n",
    "    for line in file:\n",
    "        data.append(list(line.strip()))"
   ]
  },
  {
   "cell_type": "code",
   "execution_count": 26,
   "id": "ae9bd30e",
   "metadata": {},
   "outputs": [],
   "source": [
    "def generateDictData(data):\n",
    "    retValue = {}\n",
    "    for row in range(len(data)):\n",
    "        for col in range(len(data[row])):\n",
    "            if(data[row][col] != '.'):\n",
    "                if(data[row][col] not in retValue):\n",
    "                    retValue[data[row][col]] = [(row,col)]\n",
    "                else:\n",
    "                    retValue[data[row][col]].append((row,col))\n",
    "    return retValue\n",
    "\n",
    "def printBoard(data):\n",
    "    for row in range(len(data)):\n",
    "        for col in range(len(data[row])):\n",
    "            print(data[row][col],end=\"\")\n",
    "        print()\n",
    "\n",
    "def checkPairForAntinode(pointA, pointB, rowMax, colMax):\n",
    "    dr = pointA[0] - pointB[0]\n",
    "    dc = pointA[1] - pointB[1]\n",
    "    retValue = []\n",
    "    if(pointB[0] - dr < rowMax and pointB[0] - dr >= 0 and pointB[1] - dc < colMax and pointB[1] - dc >= 0):\n",
    "        retValue.append((pointB[0]-dr,pointB[1]-dc))\n",
    "        \n",
    "    if(pointA[0] + dr < rowMax and pointA[0] + dr >= 0 and pointA[1] + dc < colMax and pointA[1] + dc >= 0):\n",
    "        retValue.append((pointA[0]+dr,pointA[1]+dc))\n",
    "    return retValue\n",
    "\n",
    "def iterator(rawData):\n",
    "    data = generateDictData(rawData)\n",
    "    count = 0\n",
    "    setOfAntiNodes = set()\n",
    "    for key in data.keys():\n",
    "        listToPermute = data[key]\n",
    "        if(len(listToPermute) > 1):\n",
    "            for i in range(len(listToPermute) -1):\n",
    "                for j in range(i+1, len(listToPermute)):\n",
    "                    result = checkPairForAntinode(listToPermute[i], listToPermute[j], len(rawData), len(rawData[0]))\n",
    "                    for node in result:\n",
    "                        if(node not in setOfAntiNodes):\n",
    "                            setOfAntiNodes.add(node)\n",
    "                            count += 1\n",
    "    return count"
   ]
  },
  {
   "cell_type": "code",
   "execution_count": 27,
   "id": "b8cf79a3",
   "metadata": {},
   "outputs": [
    {
     "name": "stdout",
     "output_type": "stream",
     "text": [
      "291\n"
     ]
    }
   ],
   "source": [
    "print(iterator(data))"
   ]
  },
  {
   "cell_type": "code",
   "execution_count": 28,
   "id": "0a2e6247",
   "metadata": {},
   "outputs": [],
   "source": [
    "def checkPairForAntinodeAdvanced(pointA, pointB, rowMax, colMax):\n",
    "    dr = pointA[0] - pointB[0]\n",
    "    dc = pointA[1] - pointB[1]\n",
    "    retValue = []\n",
    "    for mult in range(max(rowMax,colMax)):\n",
    "        if(pointB[0] - mult*dr < rowMax and pointB[0] - mult*dr >= 0 and pointB[1] - mult*dc < colMax and pointB[1] - mult*dc >= 0):\n",
    "            retValue.append((pointB[0]-mult*dr,pointB[1]-mult*dc))\n",
    "        else:\n",
    "            break\n",
    "    for mult in range(max(rowMax,colMax)):\n",
    "        if(pointA[0] + mult*dr < rowMax and pointA[0] + mult*dr >= 0 and pointA[1] + mult*dc < colMax and pointA[1] + mult*dc >= 0):\n",
    "            retValue.append((pointA[0]+mult*dr,pointA[1]+mult*dc))\n",
    "    return retValue\n",
    "\n",
    "def iteratorAdvanced(rawData):\n",
    "    data = generateDictData(rawData)\n",
    "    count = 0\n",
    "    setOfAntiNodes = set()\n",
    "    for key in data.keys():\n",
    "        listToPermute = data[key]\n",
    "        if(len(listToPermute) > 1):\n",
    "            for i in range(len(listToPermute) -1):\n",
    "                for j in range(i+1, len(listToPermute)):\n",
    "                    result = checkPairForAntinodeAdvanced(listToPermute[i], listToPermute[j], len(rawData), len(rawData[0]))\n",
    "                    for node in result:\n",
    "                        if(node not in setOfAntiNodes):\n",
    "                            setOfAntiNodes.add(node)\n",
    "                            count += 1\n",
    "    return count"
   ]
  },
  {
   "cell_type": "code",
   "execution_count": null,
   "id": "4076e812",
   "metadata": {},
   "outputs": [],
   "source": [
    "print(iteratorAdvanced(data))"
   ]
  }
 ],
 "metadata": {
  "kernelspec": {
   "display_name": "Python 3 (ipykernel)",
   "language": "python",
   "name": "python3"
  },
  "language_info": {
   "codemirror_mode": {
    "name": "ipython",
    "version": 3
   },
   "file_extension": ".py",
   "mimetype": "text/x-python",
   "name": "python",
   "nbconvert_exporter": "python",
   "pygments_lexer": "ipython3",
   "version": "3.9.7"
  }
 },
 "nbformat": 4,
 "nbformat_minor": 5
}
