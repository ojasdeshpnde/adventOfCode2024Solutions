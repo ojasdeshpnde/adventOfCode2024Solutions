{
 "cells": [
  {
   "cell_type": "code",
   "execution_count": 6,
   "id": "2bc7cc6b-deac-4fdc-8ac7-5c388a0d56ab",
   "metadata": {},
   "outputs": [],
   "source": [
    "knowledgeBase = {}\n",
    "commands = []\n",
    "data = []\n",
    "with open(\"inputd5.txt\", \"r\") as file:\n",
    "    for line in file:\n",
    "        if(\"|\" in line):\n",
    "            leftInt = int(line.split(\"|\")[0])\n",
    "            rightInt = int(line.split(\"|\")[1])\n",
    "            if(leftInt not in knowledgeBase):\n",
    "                knowledgeBase[leftInt] = [rightInt]\n",
    "            else:\n",
    "                knowledgeBase[leftInt].append(rightInt)\n",
    "        elif(\",\" in line):\n",
    "            listOfInt = [int(x) for x in line.split(\",\")]\n",
    "            commands.append(listOfInt)"
   ]
  },
  {
   "cell_type": "code",
   "execution_count": 10,
   "id": "718dab3b-da61-4007-987f-caf45df4c76f",
   "metadata": {},
   "outputs": [],
   "source": [
    "def checkPair(leftInt, rightInt, kb): # returns true if left < right\n",
    "    if(leftInt in kb[rightInt]):\n",
    "        return False\n",
    "    return True\n",
    "\n",
    "def validateCommand(command, kb):\n",
    "    for i in range(len(command)-1):\n",
    "        for j in range(i+1,len(command)):\n",
    "            if(not checkPair(command[i],command[j],kb)):\n",
    "                return False\n",
    "    return True\n",
    "\n",
    "def iterateCommands(commands, kb):\n",
    "    count = 0\n",
    "    for command in commands:\n",
    "        if(validateCommand(command,kb)):\n",
    "            count += command[int((len(command) - 1 )/2)]\n",
    "    return count"
   ]
  },
  {
   "cell_type": "code",
   "execution_count": 12,
   "id": "e9bbbc54-8e2e-4de6-bee2-8f09fec8bbe7",
   "metadata": {},
   "outputs": [
    {
     "name": "stdout",
     "output_type": "stream",
     "text": [
      "4766\n"
     ]
    }
   ],
   "source": [
    "print(iterateCommands(commands,knowledgeBase))"
   ]
  },
  {
   "cell_type": "code",
   "execution_count": 25,
   "id": "76fd4c05-230f-4363-9900-2b0216cf48c5",
   "metadata": {},
   "outputs": [],
   "source": [
    "def fixCommand(command, kb):\n",
    "    retValue = []\n",
    "    for num in command:\n",
    "        indexToInsert = 0\n",
    "        for i in range(len(retValue)):\n",
    "            if(checkPair(num,retValue[i], kb)):\n",
    "                break\n",
    "            else:\n",
    "                indexToInsert += 1\n",
    "        retValue.insert(indexToInsert,num)\n",
    "    return retValue\n",
    "    \n",
    "def iterateCommands2(commands, kb):\n",
    "    count = 0\n",
    "    for command in commands:\n",
    "        if(not validateCommand(command, kb)):\n",
    "            fixedCommand = fixCommand(command,kb)\n",
    "            count += fixedCommand[int((len(command)-1)/2)]\n",
    "    return count"
   ]
  },
  {
   "cell_type": "code",
   "execution_count": 26,
   "id": "0f42f66a-1c2e-40ec-aa49-4858ac4241da",
   "metadata": {},
   "outputs": [
    {
     "name": "stdout",
     "output_type": "stream",
     "text": [
      "6257\n"
     ]
    }
   ],
   "source": [
    "print(iterateCommands2(commands,knowledgeBase))"
   ]
  },
  {
   "cell_type": "code",
   "execution_count": null,
   "id": "3b329a4f-7e29-452c-a188-385383132cd6",
   "metadata": {},
   "outputs": [],
   "source": []
  }
 ],
 "metadata": {
  "kernelspec": {
   "display_name": "Python 3 (ipykernel)",
   "language": "python",
   "name": "python3"
  },
  "language_info": {
   "codemirror_mode": {
    "name": "ipython",
    "version": 3
   },
   "file_extension": ".py",
   "mimetype": "text/x-python",
   "name": "python",
   "nbconvert_exporter": "python",
   "pygments_lexer": "ipython3",
   "version": "3.11.8"
  }
 },
 "nbformat": 4,
 "nbformat_minor": 5
}
