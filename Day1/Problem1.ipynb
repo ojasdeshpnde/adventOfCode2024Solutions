{
 "cells": [
  {
   "cell_type": "code",
   "execution_count": 18,
   "id": "fd16588c",
   "metadata": {},
   "outputs": [],
   "source": [
    "with open(\"p1_input.txt\", \"r\") as file:\n",
    "    content = file.read()\n",
    "listOfTuples = content.split(\"\\n\")\n",
    "list1 = []\n",
    "list2 = []\n",
    "for tup in listOfTuples:\n",
    "    list1.append(int(tup.split(\" \")[0]))\n",
    "    list2.append(int(tup.split(\" \")[3]))"
   ]
  },
  {
   "cell_type": "code",
   "execution_count": 22,
   "id": "e624d309",
   "metadata": {},
   "outputs": [],
   "source": [
    "list1.sort()\n",
    "list2.sort()\n",
    "retValue = 0\n",
    "for i in range(len(list1)):\n",
    "    retValue += abs(list1[i] - list2[i])"
   ]
  },
  {
   "cell_type": "code",
   "execution_count": 23,
   "id": "12857368",
   "metadata": {},
   "outputs": [
    {
     "name": "stdout",
     "output_type": "stream",
     "text": [
      "2815556\n"
     ]
    }
   ],
   "source": [
    "print(retValue)"
   ]
  },
  {
   "cell_type": "code",
   "execution_count": 24,
   "id": "8094a283",
   "metadata": {},
   "outputs": [],
   "source": [
    "histogramOfRightList = {}\n",
    "for x in list2:\n",
    "    if x not in histogramOfRightList:\n",
    "        histogramOfRightList[x]=1\n",
    "    else:\n",
    "        histogramOfRightList[x] += 1\n",
    "\n",
    "similarityScore = 0\n",
    "for y in list1:\n",
    "    if y in histogramOfRightList:\n",
    "        similarityScore += y*histogramOfRightList[y]"
   ]
  },
  {
   "cell_type": "code",
   "execution_count": 25,
   "id": "eebaf441",
   "metadata": {},
   "outputs": [
    {
     "name": "stdout",
     "output_type": "stream",
     "text": [
      "23927637\n"
     ]
    }
   ],
   "source": [
    "print(similarityScore)"
   ]
  },
  {
   "cell_type": "code",
   "execution_count": null,
   "id": "90317cc7",
   "metadata": {},
   "outputs": [],
   "source": []
  }
 ],
 "metadata": {
  "kernelspec": {
   "display_name": "Python 3 (ipykernel)",
   "language": "python",
   "name": "python3"
  },
  "language_info": {
   "codemirror_mode": {
    "name": "ipython",
    "version": 3
   },
   "file_extension": ".py",
   "mimetype": "text/x-python",
   "name": "python",
   "nbconvert_exporter": "python",
   "pygments_lexer": "ipython3",
   "version": "3.9.7"
  }
 },
 "nbformat": 4,
 "nbformat_minor": 5
}
