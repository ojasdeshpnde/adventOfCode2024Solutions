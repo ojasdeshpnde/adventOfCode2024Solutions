{
 "cells": [
  {
   "cell_type": "code",
   "execution_count": 6,
   "id": "4523939f",
   "metadata": {},
   "outputs": [],
   "source": [
    "rows = []\n",
    "with open(\"input_data2.txt\", \"r\") as file:\n",
    "    for line in file:\n",
    "        row = [int(num) for num in line.split()]\n",
    "        rows.append(row)"
   ]
  },
  {
   "cell_type": "code",
   "execution_count": 25,
   "id": "41bd470d",
   "metadata": {},
   "outputs": [],
   "source": [
    "def isAllIncreasing(level):\n",
    "    for i in range(0,len(level)-1):\n",
    "        if(level[i+1] <= level[i]):\n",
    "            return False\n",
    "    return True\n",
    "\n",
    "def isAllDecreasing(level):\n",
    "    for i in range(0,len(level)-1):\n",
    "        if(level[i+1] >= level[i]):\n",
    "            return False\n",
    "    return True\n",
    "\n",
    "def isLevelSafe(level):\n",
    "    if(not isAllIncreasing(level) and not isAllDecreasing(level)):\n",
    "        return False\n",
    "    \n",
    "    for i in range(len(level)-1):\n",
    "        if(abs(level[i] - level[i+1]) < 1 or abs(level[i] - level[i+1]) > 3):\n",
    "            return False\n",
    "    return True"
   ]
  },
  {
   "cell_type": "code",
   "execution_count": 27,
   "id": "33ed1179",
   "metadata": {},
   "outputs": [
    {
     "name": "stdout",
     "output_type": "stream",
     "text": [
      "631\n"
     ]
    }
   ],
   "source": [
    "counter = 0\n",
    "for row in rows:\n",
    "    if(isLevelSafe(row)):\n",
    "        counter +=1\n",
    "print(counter)"
   ]
  },
  {
   "cell_type": "code",
   "execution_count": 28,
   "id": "1fe2eda6",
   "metadata": {},
   "outputs": [],
   "source": [
    "def problemDampnerIsLevelSafe(level):\n",
    "    if(not isLevelSafe(level)):\n",
    "        for i in range(0,len(level)):\n",
    "            subLevel = level[:i] + level[i+1:]\n",
    "            if(isLevelSafe(subLevel)):\n",
    "                return True\n",
    "        return False\n",
    "    return True"
   ]
  },
  {
   "cell_type": "code",
   "execution_count": 29,
   "id": "2297ca0e",
   "metadata": {},
   "outputs": [
    {
     "name": "stdout",
     "output_type": "stream",
     "text": [
      "665\n"
     ]
    }
   ],
   "source": [
    "counter = 0\n",
    "for row in rows:\n",
    "    if(problemDampnerIsLevelSafe(row)):\n",
    "        counter +=1\n",
    "print(counter)"
   ]
  },
  {
   "cell_type": "code",
   "execution_count": null,
   "id": "62d96c18",
   "metadata": {},
   "outputs": [],
   "source": []
  }
 ],
 "metadata": {
  "kernelspec": {
   "display_name": "Python 3 (ipykernel)",
   "language": "python",
   "name": "python3"
  },
  "language_info": {
   "codemirror_mode": {
    "name": "ipython",
    "version": 3
   },
   "file_extension": ".py",
   "mimetype": "text/x-python",
   "name": "python",
   "nbconvert_exporter": "python",
   "pygments_lexer": "ipython3",
   "version": "3.9.7"
  }
 },
 "nbformat": 4,
 "nbformat_minor": 5
}
