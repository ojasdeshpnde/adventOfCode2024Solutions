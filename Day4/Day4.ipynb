{
 "cells": [
  {
   "cell_type": "code",
   "execution_count": 81,
   "id": "3c21704b-9afb-442e-a470-ca13e2a2d4eb",
   "metadata": {},
   "outputs": [],
   "source": [
    "data = []\n",
    "with open(\"inputd4.txt\", \"r\") as file:\n",
    "    for line in file:\n",
    "        data.append(list(line.strip()))"
   ]
  },
  {
   "cell_type": "code",
   "execution_count": 82,
   "id": "ba5f2041-e911-4a47-9d03-51d726457644",
   "metadata": {},
   "outputs": [],
   "source": [
    "def horizontalSearch(wordsToFind, data):\n",
    "    counter = 0\n",
    "    for word in wordsToFind:\n",
    "        for row in range(len(data)):\n",
    "            for col in range(len(data[0]) - len(word) + 1):\n",
    "                isValid = True\n",
    "                for index in range(len(word)):\n",
    "                    if(word[index] != data[row][col+index]):\n",
    "                        isValid = False\n",
    "                        break\n",
    "                if(isValid):\n",
    "                    counter += 1\n",
    "    return counter\n",
    "\n",
    "def verticalSearch(wordsToFind, data):\n",
    "    counter = 0\n",
    "    for word in wordsToFind:\n",
    "        for row in range(len(data) - len(word) + 1):\n",
    "            for col in range(len(data[0])):\n",
    "                isValid = True\n",
    "                for index in range(len(word)):\n",
    "                    if(word[index] != data[row+index][col]):\n",
    "                        isValid = False\n",
    "                        break\n",
    "                if(isValid):\n",
    "                    counter += 1\n",
    "    return counter\n",
    "\n",
    "def forwardDiagonal(wordsToFind, data):\n",
    "    counter = 0\n",
    "    for word in wordsToFind:\n",
    "        for row in range(len(data) - len(word) + 1):\n",
    "            for col in range(len(data[0]) - len(word) + 1):\n",
    "                isValid = True\n",
    "                for index in range(len(word)):\n",
    "                    if(word[index] != data[row+index][col+index]):\n",
    "                        isValid = False\n",
    "                        break\n",
    "                if(isValid):\n",
    "                    counter += 1\n",
    "    return counter\n",
    "\n",
    "def backwardDiagonal(wordsToFind,data):\n",
    "    counter = 0\n",
    "    for word in wordsToFind:\n",
    "        for row in range(len(data) - len(word) + 1):\n",
    "            for col in range(len(word)-1,len(data[0])):\n",
    "                isValid = True\n",
    "                for index in range(len(word)):\n",
    "                    if(word[index] != data[row+index][col-index]):\n",
    "                        isValid = False\n",
    "                        break\n",
    "                if(isValid):\n",
    "                    counter += 1\n",
    "    return counter\n",
    "\n",
    "def findTotalCount(wordsToFind, data):\n",
    "    return horizontalSearch(wordsToFind,data) + verticalSearch(wordsToFind, data) + forwardDiagonal(wordsToFind, data) + backwardDiagonal(wordsToFind,data)"
   ]
  },
  {
   "cell_type": "code",
   "execution_count": 83,
   "id": "2634d49a-0c66-4ac6-9d8b-8b70a01f10dc",
   "metadata": {},
   "outputs": [
    {
     "name": "stdout",
     "output_type": "stream",
     "text": [
      "2378\n"
     ]
    }
   ],
   "source": [
    "wordsToFind = [['X','M','A','S'],['S','A','M','X']]\n",
    "print(findTotalCount(wordsToFind, data))"
   ]
  },
  {
   "cell_type": "code",
   "execution_count": 84,
   "id": "ba77dbd7-0bf7-4170-8a40-7d4607c1fe80",
   "metadata": {},
   "outputs": [],
   "source": [
    "def checkMatrixMatch(expected, actual):\n",
    "    for row in range(len(expected)):\n",
    "        for col in range(len(expected[0])):\n",
    "            if(expected[row][col] != \".\" and expected[row][col] != actual[row][col]):\n",
    "                return False\n",
    "    return True\n",
    "\n",
    "def countXMAS(validXMASTypes, data):\n",
    "    counter = 0\n",
    "    for expected in validXMASTypes:\n",
    "        for row in range(len(data) - len(expected) + 1):\n",
    "            for col in range(len(data[0]) - len(expected[0]) + 1):\n",
    "                subArray = [k[col:col+len(expected[0])] for k in data[row:row+len(expected)]]\n",
    "                if(checkMatrixMatch(expected,subArray)):\n",
    "                    counter += 1\n",
    "    return counter"
   ]
  },
  {
   "cell_type": "code",
   "execution_count": 85,
   "id": "d5fb99f7-2764-4a36-9c24-3864f589efd9",
   "metadata": {},
   "outputs": [
    {
     "name": "stdout",
     "output_type": "stream",
     "text": [
      "1796\n"
     ]
    }
   ],
   "source": [
    "matrix1 = [['M','.','S'],['.','A','.'],['M','.','S']]\n",
    "matrix2 = [['S','.','S'],['.','A','.'],['M','.','M']]\n",
    "matrix3 = [['M','.','M'],['.','A','.'],['S','.','S']]\n",
    "matrix4 = [['S','.','M'],['.','A','.'],['S','.','M']]\n",
    "validXMASTypes = [matrix1,matrix2,matrix3,matrix4]\n",
    "print(countXMAS(validXMASTypes, data))"
   ]
  },
  {
   "cell_type": "code",
   "execution_count": null,
   "id": "91a95c57-3a2c-4729-af64-7a616fecaf48",
   "metadata": {},
   "outputs": [],
   "source": []
  },
  {
   "cell_type": "code",
   "execution_count": null,
   "id": "6a4b3f93-23c0-4f86-8f6f-479913b7bfdf",
   "metadata": {},
   "outputs": [],
   "source": []
  }
 ],
 "metadata": {
  "kernelspec": {
   "display_name": "Python 3 (ipykernel)",
   "language": "python",
   "name": "python3"
  },
  "language_info": {
   "codemirror_mode": {
    "name": "ipython",
    "version": 3
   },
   "file_extension": ".py",
   "mimetype": "text/x-python",
   "name": "python",
   "nbconvert_exporter": "python",
   "pygments_lexer": "ipython3",
   "version": "3.11.8"
  }
 },
 "nbformat": 4,
 "nbformat_minor": 5
}
