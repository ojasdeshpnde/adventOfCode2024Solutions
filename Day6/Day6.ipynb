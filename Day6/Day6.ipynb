{
 "cells": [
  {
   "cell_type": "code",
   "execution_count": 132,
   "id": "1029e6fc",
   "metadata": {},
   "outputs": [],
   "source": [
    "data = []\n",
    "with open(\"inputd6.txt\", \"r\") as file:\n",
    "    for line in file:\n",
    "        data.append(list(line.strip()))"
   ]
  },
  {
   "cell_type": "code",
   "execution_count": 133,
   "id": "6fcbc64c",
   "metadata": {},
   "outputs": [],
   "source": [
    "def getInitialPosition(data):\n",
    "    for row in range(len(data)):\n",
    "        for col in range(len(data[row])):\n",
    "            if(data[row][col] == \"^\"):\n",
    "                return [row,col,data[row][col]]\n",
    "\n",
    "def positionToVelocity(position):\n",
    "    if(position[2] == '^'):\n",
    "        return [-1,0]\n",
    "    elif(position[2] == '>'):\n",
    "        return [0,1]\n",
    "    elif(position[2] == 'V'):\n",
    "        return [1,0]\n",
    "    elif(position[2] == '<'):\n",
    "        return [0,-1]\n",
    "\n",
    "def checkEdges(data, dPosition):\n",
    "    row = dPosition[0]\n",
    "    col = dPosition[1]\n",
    "    if(row < 0 or row >= len(data) or col < 0 or col >= len(data)):\n",
    "        return True\n",
    "    return False\n",
    "\n",
    "def rotate90(position):\n",
    "    if(position[2] == \"^\"):\n",
    "        position[2] = \">\"\n",
    "    elif(position[2] == \">\"):\n",
    "        position[2] = \"V\"\n",
    "    elif(position[2] == \"V\"):\n",
    "        position[2] = \"<\"\n",
    "    elif(position[2] == \"<\"):\n",
    "        position[2] = \"^\"\n",
    "\n",
    "def move(data,position):\n",
    "    velocity = positionToVelocity(position)\n",
    "    row = position[0]\n",
    "    col = position[1]\n",
    "    \n",
    "    newRow = position[0] + velocity[0]\n",
    "    newCol =  position[1] + velocity[1]\n",
    "    dPosition = [newRow, newCol]\n",
    "    \n",
    "    if(checkEdges(data,dPosition)):\n",
    "        return -1\n",
    "    elif(data[newRow][newCol] == \".\"):\n",
    "        data[row][col] = \"X\"\n",
    "        data[newRow][newCol] = position[2]\n",
    "        position[0] = newRow\n",
    "        position[1] = newCol\n",
    "        return 1\n",
    "    elif(data[newRow][newCol] == \"X\"):\n",
    "        data[row][col] = \"X\"\n",
    "        data[newRow][newCol] = position[2]\n",
    "        position[0] = newRow\n",
    "        position[1] = newCol\n",
    "        return 0\n",
    "    elif(data[newRow][newCol] == \"#\"):\n",
    "        rotate90(position)\n",
    "        return 0\n",
    "    \n",
    "def printBoard(data):\n",
    "    for row in range(len(data)):\n",
    "        for col in range(len(data[0])):\n",
    "            print(data[row][col],end=\"\")\n",
    "        print()\n",
    "    print()\n",
    "    print()\n",
    "\n",
    "    \n",
    "def iterator(data):\n",
    "    position = getInitialPosition(data)\n",
    "    uniquePositions = 1\n",
    "    index = move(data,position)\n",
    "    while(index >= 0):\n",
    "        uniquePositions += index\n",
    "        index = move(data,position)\n",
    "    return uniquePositions"
   ]
  },
  {
   "cell_type": "code",
   "execution_count": 134,
   "id": "dd4ccd43",
   "metadata": {},
   "outputs": [
    {
     "name": "stdout",
     "output_type": "stream",
     "text": [
      "4973\n"
     ]
    }
   ],
   "source": [
    "dataCopy = [row[:] for row in data]\n",
    "print(iterator(dataCopy))"
   ]
  },
  {
   "cell_type": "code",
   "execution_count": 147,
   "id": "2ae039ce",
   "metadata": {},
   "outputs": [],
   "source": [
    "def checkInfLoop(dataCopy):\n",
    "    position = getInitialPosition(dataCopy)\n",
    "    dictionaryOfVisited = set()\n",
    "    dictionaryOfVisited.add((position[0],position[1],position[2]))\n",
    "    index = move(dataCopy, position)\n",
    "    while(index >= 0):\n",
    "        if((position[0],position[1],position[2]) in dictionaryOfVisited):\n",
    "            return 1\n",
    "        else:\n",
    "            dictionaryOfVisited.add((position[0],position[1],position[2]))\n",
    "            index = move(dataCopy,position)\n",
    "    return 0\n",
    "\n",
    "def MapIterator(data):\n",
    "    countOfInfLoops = 0\n",
    "    otherCount = 0\n",
    "    for row in range(len(data)):\n",
    "        for col in range(len(data[row])):\n",
    "            if(otherCount % 1000 == 0):\n",
    "                print(otherCount)\n",
    "            dataCopy = [row[:] for row in data]\n",
    "            if(data[row][col] == \".\"):\n",
    "                dataCopy[row][col] = \"#\"\n",
    "                countOfInfLoops += checkInfLoop(dataCopy)\n",
    "            otherCount += 1\n",
    "    print()\n",
    "    return countOfInfLoops"
   ]
  },
  {
   "cell_type": "code",
   "execution_count": 148,
   "id": "fbcaf67e",
   "metadata": {},
   "outputs": [
    {
     "name": "stdout",
     "output_type": "stream",
     "text": [
      "0\n",
      "1000\n",
      "2000\n",
      "3000\n",
      "4000\n",
      "5000\n",
      "6000\n",
      "7000\n",
      "8000\n",
      "9000\n",
      "10000\n",
      "11000\n",
      "12000\n",
      "13000\n",
      "14000\n",
      "15000\n",
      "16000\n",
      "\n",
      "1482\n"
     ]
    }
   ],
   "source": [
    "dataCopy2 = [row[:] for row in data]\n",
    "print(MapIterator(dataCopy2))"
   ]
  },
  {
   "cell_type": "code",
   "execution_count": null,
   "id": "5647cfa8",
   "metadata": {},
   "outputs": [],
   "source": []
  },
  {
   "cell_type": "code",
   "execution_count": null,
   "id": "28a0a646",
   "metadata": {},
   "outputs": [],
   "source": []
  }
 ],
 "metadata": {
  "kernelspec": {
   "display_name": "Python 3 (ipykernel)",
   "language": "python",
   "name": "python3"
  },
  "language_info": {
   "codemirror_mode": {
    "name": "ipython",
    "version": 3
   },
   "file_extension": ".py",
   "mimetype": "text/x-python",
   "name": "python",
   "nbconvert_exporter": "python",
   "pygments_lexer": "ipython3",
   "version": "3.9.7"
  }
 },
 "nbformat": 4,
 "nbformat_minor": 5
}
