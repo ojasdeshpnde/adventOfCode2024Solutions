{
 "cells": [
  {
   "cell_type": "code",
   "execution_count": 1,
   "id": "4296d46d-74c4-4c41-a90c-7341c209b423",
   "metadata": {},
   "outputs": [],
   "source": [
    "import re"
   ]
  },
  {
   "cell_type": "code",
   "execution_count": 49,
   "id": "ab52275c-3580-4166-8383-92bc65a272a0",
   "metadata": {},
   "outputs": [],
   "source": [
    "with open('inputd3.txt', 'r') as file:\n",
    "    data = file.read().replace('\\n', '')"
   ]
  },
  {
   "cell_type": "code",
   "execution_count": 50,
   "id": "6bc7b218-4ee5-4d47-8b62-8c2bc4e2345d",
   "metadata": {},
   "outputs": [
    {
     "name": "stdout",
     "output_type": "stream",
     "text": [
      "170068701\n"
     ]
    }
   ],
   "source": [
    "pattern=r\"(mul\\((\\d{1,3}),(\\d{1,3})\\))\"\n",
    "matches = re.findall(pattern, data)\n",
    "total = 0\n",
    "for match in matches:\n",
    "    total += int(match[1]) * int(match[2])\n",
    "print(total)"
   ]
  },
  {
   "cell_type": "code",
   "execution_count": 48,
   "id": "8a6e376f-4e1e-43b6-8bbb-e66a27ba513b",
   "metadata": {},
   "outputs": [
    {
     "name": "stdout",
     "output_type": "stream",
     "text": [
      "don't()\n",
      "don't()\n",
      "don't()\n",
      "do()\n",
      "don't()\n",
      "don't()\n",
      "don't()\n",
      "do()\n",
      "don't()\n",
      "don't()\n",
      "don't()\n",
      "don't()\n",
      "do()\n",
      "don't()\n",
      "do()\n",
      "don't()\n",
      "do()\n",
      "don't()\n",
      "don't()\n",
      "do()\n",
      "don't()\n",
      "do()\n",
      "do()\n",
      "do()\n",
      "don't()\n",
      "don't()\n",
      "don't()\n",
      "don't()\n",
      "do()\n",
      "don't()\n",
      "don't()\n",
      "don't()\n",
      "don't()\n",
      "do()\n",
      "do()\n",
      "don't()\n",
      "don't()\n",
      "don't()\n",
      "don't()\n",
      "don't()\n",
      "do()\n",
      "do()\n",
      "do()\n",
      "do()\n",
      "do()\n",
      "don't()\n",
      "do()\n",
      "do()\n",
      "do()\n",
      "do()\n",
      "do()\n",
      "do()\n",
      "don't()\n",
      "do()\n",
      "do()\n",
      "don't()\n",
      "don't()\n",
      "78683433\n"
     ]
    }
   ],
   "source": [
    "condPattern = r\"(mul\\((\\d{1,3}),(\\d{1,3})\\)|do\\(\\)|don't\\(\\))\"\n",
    "matchesConditional = re.findall(condPattern,data)\n",
    "\n",
    "weAreCountingThis = True\n",
    "total = 0\n",
    "for match in matchesConditional:\n",
    "    if weAreCountingThis and \"mul\" in match[0]:\n",
    "        total += int(match[1]) * int(match[2])\n",
    "    elif \"do()\" in match[0]:\n",
    "        print(\"do()\")\n",
    "        weAreCountingThis = True\n",
    "    elif \"don't()\" in match[0]:\n",
    "        print(\"don't()\")\n",
    "        weAreCountingThis=False\n",
    "print(total)"
   ]
  },
  {
   "cell_type": "code",
   "execution_count": null,
   "id": "8cfbf04c-cdd5-4d45-afab-dd3593a7d288",
   "metadata": {},
   "outputs": [],
   "source": []
  }
 ],
 "metadata": {
  "kernelspec": {
   "display_name": "Python 3 (ipykernel)",
   "language": "python",
   "name": "python3"
  },
  "language_info": {
   "codemirror_mode": {
    "name": "ipython",
    "version": 3
   },
   "file_extension": ".py",
   "mimetype": "text/x-python",
   "name": "python",
   "nbconvert_exporter": "python",
   "pygments_lexer": "ipython3",
   "version": "3.11.8"
  }
 },
 "nbformat": 4,
 "nbformat_minor": 5
}
